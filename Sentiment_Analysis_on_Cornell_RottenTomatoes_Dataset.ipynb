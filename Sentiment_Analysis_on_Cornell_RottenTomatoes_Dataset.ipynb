{
 "cells": [
  {
   "cell_type": "code",
   "execution_count": 42,
   "id": "7897ecd3-a1f8-4b46-8a76-5e4e24279957",
   "metadata": {},
   "outputs": [
    {
     "name": "stdout",
     "output_type": "stream",
     "text": [
      "Loaded 1400 samples\n",
      "Example text #1: the farrelly brothers' third film , after dumb and dumber ( 7 . 5/10 ) and kingpin ( 8/10 ) , brings together the real-life couple of cameron diaz and matt dillon , some nasty humour , a cute dog , and a mix of love , fate and romance . plot : high-school nerd ted gets lucky when the cutest girl in his class asks him to the prom . unfortunately for ted , he accidentally gets a part of his male anatomy ( ouch ! ) caught in his zipper , and misses the big night . thirteen years later , ted still can't get mary out of his mind , and hires a private detective ( dillon ) to find her . once found , it turns out that mary has more than one suitor , and that's when the real fun begins . critique : likeable comedy with a few extremely funny scenes , some funny looking people , and a plot that won't ever put you to sleep . having said that , i must admit that i did like the farrellys' two previous films more than this one , but that is saying a lot , since i really did love those earlier pics . this one is also quite funny , but it didn't really blow me away like the others . then again , maybe my expectations were too high . then again , maybe i should shut up , and write a little more about the film , and less about my supposed subconscious reasons for liking/disliking the film . continuing where their other pictures left off , the farrellys' create a cutesy world of people with strange and endearing qualities , and a simple plot by which to tie them all together . this one also includes plenty of toilet humour , but also some borderline fun-making of the disabled and mentally-challenged . i must admit that i really wasn't sure whether to laugh at some points or not . not a good place to be . having said that , the scenes that did tear through the audience , and yours truly , were extremely hilarious , and went on for several minutes after the punchline . the laughter practically killed out the next scene for one of the best ones in the movie ( something to do with hair gel ) . on the negative end , i did not like the musical interludes of jonathan richman that ran through the entire picture . i found them quite useless , unfunny and distracting . also , i found that a lot of the funnier scenes had already been shown in the film's trailer . and of course , i never quite buy the fact that these beautiful , intelligent , single women still can't seem to find the \" right guy \" ( see kiss the girls ( 7/10 ) . i did really like all of the actors in the film , especially ben stiller , who appears to be solidifying his mark as a great comical actor with this picture and one of my favourites from 1996 , flirting with disaster ( 8/10 ) . i also liked matt dillon with his big teeth , and lee evans with his superb faux-sympathy british accent . funny stuff . also , make sure that you stay for the credits , because there is an entire montage of outtakes from the film that plays under a lip-synched version of \" build me up buttercup \" , which is really cool . overall , a cute comedy with a decent premise , and a few particularly hilarious scenes . little known facts : the farrellys big break came when they somehow got a copy of their script \" dust to dust \" into the hands of eddie murphy via murphy's neighbour . they only found out about murphy's interest , when they saw eddie mention the script on the david letterman show one night . matt dillon is a high school dropout . in between acting gigs , dillon has branched out into the restaurant business . close to home in his native new york , he co-owns both a bar called the whiskey and a swanky uptown eatery called the falls . cameron diaz stands 5 \" 9 , started working as a model at the early age of 16 , and loves cats . ben stiller's father is jerry stiller . he played george costanza's ( jason alexander ) father on tv's \" seinfeld \" . peter farrelly has written a novel entitled \" outside providence \" which is currently being filmed starring alec baldwin . rob moran , who plays the cop in this film , also played the millionaire bowler in kingpin , and the bartender in dumb and dumber . he is old friends with the farrelly brothers from college , and is currently married to entertainment tonight anchor/correspondant julie moran . harland williams , who plays the nutty hitchhiker in this film , also played a state trooper in the farrelly's earlier dumb and dumber , and was the star of the unfortunate rocket man . \n",
      "\n",
      "Label for example #1: 1\n"
     ]
    }
   ],
   "source": [
    "import os\n",
    "\n",
    "def load_polarity_dataset(root_dir):\n",
    "    texts = []\n",
    "    labels = []\n",
    "    for label_type in ['pos', 'neg']:\n",
    "        dir_path = os.path.join(root_dir, label_type)\n",
    "        for fname in os.listdir(dir_path):\n",
    "            if fname.endswith('.txt'):\n",
    "                file_path = os.path.join(dir_path, fname)\n",
    "                with open(file_path, 'r', encoding='utf-8', errors='ignore') as f:\n",
    "                    text = f.read()\n",
    "                    texts.append(text)\n",
    "                    labels.append(1 if label_type == 'pos' else 0)\n",
    "    return texts, labels\n",
    "\n",
    "texts, labels = load_polarity_dataset('./polarity')\n",
    "\n",
    "print(f'Loaded {len(texts)} samples')\n",
    "print('Example text #1:', texts[0])\n",
    "print('Label for example #1:', labels[0])\n"
   ]
  },
  {
   "cell_type": "code",
   "execution_count": 43,
   "id": "3b9020e4-5437-45ef-b00e-ac7650bd63e4",
   "metadata": {},
   "outputs": [
    {
     "name": "stdout",
     "output_type": "stream",
     "text": [
      "Accuracy: 0.7857142857142857\n",
      "              precision    recall  f1-score   support\n",
      "\n",
      "           0       0.75      0.86      0.80       140\n",
      "           1       0.83      0.71      0.77       140\n",
      "\n",
      "    accuracy                           0.79       280\n",
      "   macro avg       0.79      0.79      0.78       280\n",
      "weighted avg       0.79      0.79      0.78       280\n",
      "\n"
     ]
    }
   ],
   "source": [
    "from sklearn.feature_extraction.text import TfidfVectorizer\n",
    "from sklearn.model_selection import train_test_split\n",
    "from sklearn.naive_bayes import MultinomialNB\n",
    "from sklearn.metrics import accuracy_score, classification_report\n",
    "\n",
    "# 1. Vectorize the texts\n",
    "vectorizer = TfidfVectorizer(max_features=5000)\n",
    "X = vectorizer.fit_transform(texts)\n",
    "y = labels\n",
    "\n",
    "# 2. Split the data\n",
    "X_train, X_test, y_train, y_test = train_test_split(X, y, test_size=0.2, random_state=42)\n",
    "\n",
    "# 3. Train the model\n",
    "clf = MultinomialNB()\n",
    "clf.fit(X_train, y_train)\n",
    "\n",
    "# 4. Predict and evaluate\n",
    "y_pred = clf.predict(X_test)\n",
    "print(f'Accuracy: {accuracy_score(y_test, y_pred)}')\n",
    "print(classification_report(y_test, y_pred))\n"
   ]
  },
  {
   "cell_type": "code",
   "execution_count": 39,
   "id": "6e2e9292-2e54-4ee2-a40a-e470f6f7fc25",
   "metadata": {},
   "outputs": [
    {
     "name": "stderr",
     "output_type": "stream",
     "text": [
      "Some weights of DistilBertForSequenceClassification were not initialized from the model checkpoint at distilbert-base-uncased and are newly initialized: ['classifier.bias', 'classifier.weight', 'pre_classifier.bias', 'pre_classifier.weight']\n",
      "You should probably TRAIN this model on a down-stream task to be able to use it for predictions and inference.\n"
     ]
    },
    {
     "data": {
      "text/html": [
       "\n",
       "    <div>\n",
       "      \n",
       "      <progress value='140' max='140' style='width:300px; height:20px; vertical-align: middle;'></progress>\n",
       "      [140/140 01:49, Epoch 1/1]\n",
       "    </div>\n",
       "    <table border=\"1\" class=\"dataframe\">\n",
       "  <thead>\n",
       " <tr style=\"text-align: left;\">\n",
       "      <th>Epoch</th>\n",
       "      <th>Training Loss</th>\n",
       "      <th>Validation Loss</th>\n",
       "      <th>Accuracy</th>\n",
       "    </tr>\n",
       "  </thead>\n",
       "  <tbody>\n",
       "    <tr>\n",
       "      <td>1</td>\n",
       "      <td>0.701500</td>\n",
       "      <td>0.692203</td>\n",
       "      <td>0.500000</td>\n",
       "    </tr>\n",
       "  </tbody>\n",
       "</table><p>"
      ],
      "text/plain": [
       "<IPython.core.display.HTML object>"
      ]
     },
     "metadata": {},
     "output_type": "display_data"
    },
    {
     "data": {
      "text/html": [
       "\n",
       "    <div>\n",
       "      \n",
       "      <progress value='18' max='18' style='width:300px; height:20px; vertical-align: middle;'></progress>\n",
       "      [18/18 00:09]\n",
       "    </div>\n",
       "    "
      ],
      "text/plain": [
       "<IPython.core.display.HTML object>"
      ]
     },
     "metadata": {},
     "output_type": "display_data"
    },
    {
     "data": {
      "text/plain": [
       "{'eval_loss': 0.6922025084495544,\n",
       " 'eval_accuracy': 0.5,\n",
       " 'eval_runtime': 11.4592,\n",
       " 'eval_samples_per_second': 24.434,\n",
       " 'eval_steps_per_second': 1.571,\n",
       " 'epoch': 1.0}"
      ]
     },
     "execution_count": 39,
     "metadata": {},
     "output_type": "execute_result"
    }
   ],
   "source": [
    "import torch\n",
    "from transformers import AutoTokenizer, AutoModelForSequenceClassification, Trainer, TrainingArguments\n",
    "from sklearn.model_selection import train_test_split\n",
    "from datasets import Dataset\n",
    "\n",
    "# Assume texts and labels are already prepared\n",
    "# texts = [...]\n",
    "# labels = [...]\n",
    "\n",
    "# 1. Split training and validation sets\n",
    "train_texts, val_texts, train_labels, val_labels = train_test_split(\n",
    "    texts, labels, test_size=0.2, random_state=42\n",
    ")\n",
    "\n",
    "# 2. Load model name\n",
    "MODEL_NAME = \"distilbert-base-uncased\"\n",
    "\n",
    "tokenizer = AutoTokenizer.from_pretrained(MODEL_NAME)\n",
    "\n",
    "# 3. Tokenize texts\n",
    "train_encodings = tokenizer(\n",
    "    train_texts, truncation=True, padding=True, max_length=256\n",
    ")\n",
    "val_encodings = tokenizer(\n",
    "    val_texts, truncation=True, padding=True, max_length=256\n",
    ")\n",
    "\n",
    "# 4. Convert to Hugging Face Dataset\n",
    "train_dataset = Dataset.from_dict({\n",
    "    'input_ids': train_encodings['input_ids'],\n",
    "    'attention_mask': train_encodings['attention_mask'],\n",
    "    'labels': train_labels\n",
    "})\n",
    "\n",
    "val_dataset = Dataset.from_dict({\n",
    "    'input_ids': val_encodings['input_ids'],\n",
    "    'attention_mask': val_encodings['attention_mask'],\n",
    "    'labels': val_labels\n",
    "})\n",
    "\n",
    "# 5. Load pretrained model\n",
    "model = AutoModelForSequenceClassification.from_pretrained(\n",
    "    MODEL_NAME, num_labels=2\n",
    ")\n",
    "\n",
    "# 6. Manually define accuracy computation function\n",
    "def compute_metrics(eval_pred):\n",
    "    logits, labels = eval_pred\n",
    "    predictions = torch.tensor(logits).argmax(dim=-1)\n",
    "    labels = torch.tensor(labels)\n",
    "    correct = (predictions == labels).sum().item()\n",
    "    total = labels.size(0)\n",
    "    accuracy = correct / total\n",
    "    return {\"accuracy\": accuracy}\n",
    "\n",
    "# 7. Set training arguments\n",
    "training_args = TrainingArguments(\n",
    "    output_dir=\"./results\",\n",
    "    num_train_epochs=1,\n",
    "    per_device_train_batch_size=8,\n",
    "    per_device_eval_batch_size=16,\n",
    "    eval_strategy=\"epoch\",\n",
    "    save_strategy=\"epoch\",\n",
    "    logging_dir=\"./logs\",\n",
    "    logging_steps=10,\n",
    "    load_best_model_at_end=True,\n",
    "    metric_for_best_model=\"accuracy\"\n",
    ")\n",
    "\n",
    "# 8. Initialize Trainer\n",
    "trainer = Trainer(\n",
    "    model=model,\n",
    "    args=training_args,\n",
    "    train_dataset=train_dataset,\n",
    "    eval_dataset=val_dataset,\n",
    "    compute_metrics=compute_metrics\n",
    ")\n",
    "\n",
    "# 9. Train the model\n",
    "trainer.train()\n",
    "\n",
    "# 10. Evaluate the model\n",
    "trainer.evaluate()\n"
   ]
  },
  {
   "cell_type": "code",
   "execution_count": null,
   "id": "7decadb2-4e2c-421f-92b3-83b81789bb84",
   "metadata": {},
   "outputs": [],
   "source": []
  }
 ],
 "metadata": {
  "kernelspec": {
   "display_name": "Python 3 (ipykernel)",
   "language": "python",
   "name": "python3"
  },
  "language_info": {
   "codemirror_mode": {
    "name": "ipython",
    "version": 3
   },
   "file_extension": ".py",
   "mimetype": "text/x-python",
   "name": "python",
   "nbconvert_exporter": "python",
   "pygments_lexer": "ipython3",
   "version": "3.9.11"
  }
 },
 "nbformat": 4,
 "nbformat_minor": 5
}
