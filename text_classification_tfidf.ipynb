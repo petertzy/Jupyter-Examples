{
 "cells": [
  {
   "cell_type": "code",
   "execution_count": 1,
   "id": "9f793e7c-fdb1-4f9f-94f9-1e691bbbefad",
   "metadata": {},
   "outputs": [
    {
     "name": "stdout",
     "output_type": "stream",
     "text": [
      "Predicted label: 0\n"
     ]
    }
   ],
   "source": [
    "# text_classification_tfidf.py\n",
    "\n",
    "from sklearn.feature_extraction.text import TfidfVectorizer\n",
    "from sklearn.linear_model import LogisticRegression\n",
    "\n",
    "texts = [\n",
    "    \"I love this product!\",\n",
    "    \"This is terrible.\",\n",
    "    \"Absolutely fantastic!\",\n",
    "    \"Worst experience ever.\"\n",
    "]\n",
    "labels = [1, 0, 1, 0]\n",
    "\n",
    "vectorizer = TfidfVectorizer()\n",
    "X = vectorizer.fit_transform(texts)\n",
    "clf = LogisticRegression()\n",
    "clf.fit(X, labels)\n",
    "\n",
    "prediction = clf.predict(vectorizer.transform([\"I hate this\"]))\n",
    "print(\"Predicted label:\", prediction[0])\n"
   ]
  }
 ],
 "metadata": {
  "kernelspec": {
   "display_name": "Python 3 (ipykernel)",
   "language": "python",
   "name": "python3"
  },
  "language_info": {
   "codemirror_mode": {
    "name": "ipython",
    "version": 3
   },
   "file_extension": ".py",
   "mimetype": "text/x-python",
   "name": "python",
   "nbconvert_exporter": "python",
   "pygments_lexer": "ipython3",
   "version": "3.9.11"
  }
 },
 "nbformat": 4,
 "nbformat_minor": 5
}
