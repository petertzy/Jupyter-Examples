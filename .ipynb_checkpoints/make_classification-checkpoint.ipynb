{
 "cells": [
  {
   "cell_type": "code",
   "execution_count": 1,
   "id": "c511351b-d7b7-4549-8f08-de663999aaa8",
   "metadata": {},
   "outputs": [
    {
     "name": "stdout",
     "output_type": "stream",
     "text": [
      "Hello, Jupyter!\n"
     ]
    }
   ],
   "source": [
    "print(\"Hello, Jupyter!\")\n"
   ]
  },
  {
   "cell_type": "markdown",
   "id": "d15e149d-abb6-4942-ae0b-baed123ee464",
   "metadata": {},
   "source": [
    "# 我的笔记\n",
    "\n",
    "这是一个 Jupyter Notebook。\n",
    "\n",
    "- 支持列表\n",
    "- 支持公式：$E=mc^2$\n"
   ]
  },
  {
   "cell_type": "code",
   "execution_count": null,
   "id": "bfdd0052-b940-4edf-8b72-f33d1f759e9b",
   "metadata": {},
   "outputs": [],
   "source": []
  }
 ],
 "metadata": {
  "kernelspec": {
   "display_name": "Python 3 (ipykernel)",
   "language": "python",
   "name": "python3"
  },
  "language_info": {
   "codemirror_mode": {
    "name": "ipython",
    "version": 3
   },
   "file_extension": ".py",
   "mimetype": "text/x-python",
   "name": "python",
   "nbconvert_exporter": "python",
   "pygments_lexer": "ipython3",
   "version": "3.9.11"
  }
 },
 "nbformat": 4,
 "nbformat_minor": 5
}
